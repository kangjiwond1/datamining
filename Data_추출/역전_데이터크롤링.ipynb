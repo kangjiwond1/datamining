{
 "cells": [
  {
   "cell_type": "code",
   "execution_count": null,
   "metadata": {
    "collapsed": true
   },
   "outputs": [],
   "source": [
    "from selenium import webdriver\n",
    "import time\n",
    "from selenium.webdriver.common.keys import Keys\n",
    "\n",
    "path = \"C:\\chromedriver_win32\\\\chromedriver.exe\"\n",
    "driver=webdriver.Chrome(path)\n",
    "f = open(\"C:\\\\Users\\\\kjy19\\\\OneDrive\\\\문서\\\\datamining\\\\2017_08까지.txt\",'a')\n",
    "for i in range(231490,232134):\n",
    "    driver.get('http://spodb.spojoy.com/?game_id='+str(i))\n",
    "    try:\n",
    "        f.write(driver.find_element_by_xpath(\"/html/body/div/table/tbody/tr/td/table[2]/tbody/tr[2]/td[1]/div[1]/div/table/tbody\").text)\n",
    "        f.write(\"\\n\")\n",
    "    except Exception:\n",
    "        pass"
   ]
  }
 ],
 "metadata": {
  "kernelspec": {
   "display_name": "Python 3",
   "language": "python",
   "name": "python3"
  },
  "language_info": {
   "codemirror_mode": {
    "name": "ipython",
    "version": 3
   },
   "file_extension": ".py",
   "mimetype": "text/x-python",
   "name": "python",
   "nbconvert_exporter": "python",
   "pygments_lexer": "ipython3",
   "version": "3.6.1"
  }
 },
 "nbformat": 4,
 "nbformat_minor": 2
}
