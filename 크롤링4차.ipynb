from selenium import webdriver
import time
from selenium.webdriver.common.keys import Keys

path = "C:\chromedriver_win32\\chromedriver.exe"
driver=webdriver.Chrome(path)
f = open("C:\\Users\\kjy19\\OneDrive\\����\\datamining\\2017_08����.txt",'a')
for i in range(231490,232134):
    driver.get('http://spodb.spojoy.com/?game_id='+str(i))
    try:
        f.write(driver.find_element_by_xpath("/html/body/div/table/tbody/tr/td/table[2]/tbody/tr[2]/td[1]/div[1]/div/table/tbody").text)
        f.write("\n")
    except Exception:
        pass