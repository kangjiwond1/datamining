{
 "cells": [
  {
   "cell_type": "code",
   "execution_count": 1,
   "metadata": {},
   "outputs": [
    {
     "name": "stdout",
     "output_type": "stream",
     "text": [
      "팀명 1 2 3 4 5 6 7 8 9 10 11 12 R H E\n",
      "kt 1 0 0 0 1 0 0 0 0 2 6 2\n",
      "LG 0 0 0 1 2 0 0 0 - 3 7 0\n",
      "팀명 1 2 3 4 5 6 7 8 9 10 11 12 R H E\n",
      "NC 0 0 0 4 0 2 2 0 1 9 18 2\n",
      "롯데 0 4 0 0 0 1 0 0 0 5 8 1\n",
      "팀명 1 2 3 4 5 6 7 8 9 10 11 12 R H E\n",
      "두산 0 1 0 0 0 0 0 0 0 1 7 0\n",
      "한화 2 0 0 2 0 0 0 0 - 4 5 0\n",
      "팀명 1 2 3 4 5 6 7 8 9 10 11 12 R H E\n",
      "삼성 3 1 2 1 0 0 0 1 2 10 15 0\n",
      "KIA 1 0 0 0 1 0 0 0 0 2 11 1\n",
      "팀명 1 2 3 4 5 6 7 8 9 10 11 12 R H E\n",
      "키움 0 0 0 0 0 0 0 0 0 0 6 1\n",
      "SK 0 0 0 0 0 0 0 2 - 2 5 1\n",
      "팀명 1 2 3 4 5 6 7 8 9 10 11 12 R H E\n",
      "kt 1 1 1 1 0 0 0 0 0 4 10 1\n",
      "LG 0 0 3 0 1 0 0 1 - 5 15 0\n",
      "팀명 1 2 3 4 5 6 7 8 9 10 11 12 R H E\n",
      "NC 1 0 0 0 1 1 0 3 0 0 0 1 7 12 4\n",
      "롯데 1 1 0 0 0 0 0 2 2 0 0 0 6 6 3\n"
     ]
    }
   ],
   "source": [
    "from selenium import webdriver\n",
    "\n",
    "import time\n",
    "\n",
    "from selenium.webdriver.common.keys import Keys\n",
    "\n",
    "path = \"C:\\\\Users\\\\한세미\\\\Downloads\\\\chromedriver_win32\\\\chromedriver.exe\"\n",
    "driver=webdriver.Chrome(path)\n",
    "\n",
    "for i in range(28,35):\n",
    "    driver.get('http://spodb.spojoy.com/?game_id=2754'+str(i))\n",
    "    print(driver.find_element_by_xpath(\"/html/body/div/table/tbody/tr/td/table[2]/tbody/tr[2]/td[1]/div[1]/div/table/tbody\").text)\n"
   ]
  }
 ],
 "metadata": {
  "kernelspec": {
   "display_name": "Python 3",
   "language": "python",
   "name": "python3"
  },
  "language_info": {
   "codemirror_mode": {
    "name": "ipython",
    "version": 3
   },
   "file_extension": ".py",
   "mimetype": "text/x-python",
   "name": "python",
   "nbconvert_exporter": "python",
   "pygments_lexer": "ipython3",
   "version": "3.6.1"
  }
 },
 "nbformat": 4,
 "nbformat_minor": 2
}
