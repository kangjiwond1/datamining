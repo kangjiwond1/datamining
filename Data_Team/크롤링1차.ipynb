{
 "cells": [
  {
   "cell_type": "code",
   "execution_count": 29,
   "metadata": {},
   "outputs": [
    {
     "name": "stdout",
     "output_type": "stream",
     "text": [
      "팀명 1 2 3 4 5 6 7 8 9 10 11 12 R H E\n",
      "kt 1 0 0 0 1 0 0 0 0 2 6 2\n",
      "LG 0 0 0 1 2 0 0 0 - 3 7 0\n"
     ]
    }
   ],
   "source": [
    "from selenium import webdriver\n",
    "\n",
    "import time\n",
    "\n",
    "from selenium.webdriver.common.keys import Keys\n",
    "\n",
    "path = \"C:\\\\Users\\\\한세미\\\\Downloads\\\\chromedriver_win32\\\\chromedriver.exe\"\n",
    "driver=webdriver.Chrome(path)\n",
    "driver.get('http://spodb.spojoy.com/?game_id=275428')\n",
    "print(driver.find_element_by_xpath(\"/html/body/div/table/tbody/tr/td/table[2]/tbody/tr[2]/td[1]/div[1]/div/table/tbody\").text)\n",
    "\n"
   ]
  }
 ],
 "metadata": {
  "kernelspec": {
   "display_name": "Python 3",
   "language": "python",
   "name": "python3"
  },
  "language_info": {
   "codemirror_mode": {
    "name": "ipython",
    "version": 3
   },
   "file_extension": ".py",
   "mimetype": "text/x-python",
   "name": "python",
   "nbconvert_exporter": "python",
   "pygments_lexer": "ipython3",
   "version": "3.6.1"
  }
 },
 "nbformat": 4,
 "nbformat_minor": 2
}
